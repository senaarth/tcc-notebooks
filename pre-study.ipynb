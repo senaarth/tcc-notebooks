{
 "cells": [
  {
   "cell_type": "markdown",
   "id": "48be549a",
   "metadata": {},
   "source": [
    "### Parseia IDs de usuários beta e prepara consumo do MixPanel"
   ]
  },
  {
   "cell_type": "code",
   "execution_count": 4,
   "id": "eab2f163",
   "metadata": {},
   "outputs": [
    {
     "name": "stdout",
     "output_type": "stream",
     "text": [
      "número de usuários betas salvos 79193\n"
     ]
    }
   ],
   "source": [
    "import csv\n",
    "import pdb\n",
    "import pandas as pd\n",
    "import numpy as np\n",
    "import matplotlib.pyplot as plt\n",
    "import seaborn as sns\n",
    "from scipy import stats\n",
    "import requests\n",
    "from requests.auth import HTTPBasicAuth\n",
    "import json\n",
    "\n",
    "api_url = \"https://data.mixpanel.com/api/2.0/export\"\n",
    "api_secret = None\n",
    "\n",
    "def parse_api_data(http_response):\n",
    "  data = http_response.text.splitlines()\n",
    "  records = [json.loads(rec) for rec in data]\n",
    "  \n",
    "  return records\n",
    "\n",
    "def request_events(\n",
    "    from_date=\"2024-01-01\", \n",
    "    to_date=\"2024-01-01\", \n",
    "    events=[], \n",
    "    where='', \n",
    "    limit=None\n",
    "):\n",
    "    response = requests.post(\n",
    "        api_url, \n",
    "        data={\n",
    "            \"from_date\": from_date,\n",
    "            \"to_date\": to_date,\n",
    "            \"event\": json.dumps(events),\n",
    "            \"where\": where,\n",
    "            \"limit\": limit,\n",
    "        },\n",
    "        auth=HTTPBasicAuth(api_secret,'')\n",
    "    )\n",
    "    return response\n",
    "\n",
    "def get_events_from_file(file_name):\n",
    "    with open(file_name, \"r\") as file:\n",
    "        events_list = json.load(file)\n",
    "\n",
    "    return events_list\n",
    "\n",
    "def get_beta_testers_ids():\n",
    "    users_ids = []\n",
    "\n",
    "    with open('beta_testers_ids.masked.txt', mode='r') as file:\n",
    "        reader = csv.reader(file)\n",
    "        for row in reader:\n",
    "            users_ids.append(row[0])\n",
    "\n",
    "    return users_ids\n",
    "\n",
    "# only necessary in this case because the event being analyzed do not have information\n",
    "# about the user organization, in the future we can simply add a property informing the org id\n",
    "beta_testers_ids = get_beta_testers_ids()\n",
    "\n",
    "print(\"número de usuários betas salvos\", len(beta_testers_ids))### Parseia IDs de usuários beta e prepara consumo do MixPanelfilters_results = parse_api_data(\n"
   ]
  },
  {
   "cell_type": "markdown",
   "id": "3ecf5ac1",
   "metadata": {},
   "source": [
    "### Consome API do Mixpanel\n",
    "#### Busca por eventos de utilização de filtros"
   ]
  },
  {
   "cell_type": "code",
   "execution_count": 5,
   "id": "2e628346",
   "metadata": {},
   "outputs": [
    {
     "name": "stdout",
     "output_type": "stream",
     "text": [
      "número de eventos de filtragem recebidos do mixpanel 41516\n"
     ]
    }
   ],
   "source": [
    "filters_results = parse_api_data(\n",
    "    request_events(\n",
    "        from_date=\"2024-10-08\",\n",
    "        to_date=\"2024-10-21\",\n",
    "        events=[\"Activity Exercise Bank - Filtered Exercises\"],\n",
    "    )\n",
    ") if api_secret else get_events_from_file(\"filters_events.masked.json\")\n",
    "\n",
    "print(\"número de eventos de filtragem recebidos do mixpanel\", len(filters_results))"
   ]
  },
  {
   "cell_type": "markdown",
   "id": "cfe654c0",
   "metadata": {},
   "source": [
    "### Verifica se há diferença na adoção do filtro pelos docentes de cada grupo\n",
    "#### A proporção de adoção do filtro é diferente entre usuários beta?"
   ]
  },
  {
   "cell_type": "code",
   "execution_count": null,
   "id": "a49aaa84",
   "metadata": {},
   "outputs": [
    {
     "name": "stdout",
     "output_type": "stream",
     "text": [
      "adopted    False  True \n",
      "group                  \n",
      "control     2142    281\n",
      "treatment    391     50\n",
      "\n",
      "chi-quadrado: 0.005731640997952244\n",
      "p-valor: 0.9396517278466324\n",
      "graus de liberdade: 1\n",
      "frequências esperadas: [[2142.96752793  280.03247207]\n",
      " [ 390.03247207   50.96752793]]\n",
      "\n",
      "não há uma diferença significativa entre a adoção do filtro pelos grupos.\n"
     ]
    }
   ],
   "source": [
    "def get_users_adoption_by_group():\n",
    "    data_by_user_id = {};\n",
    "\n",
    "    for event in filters_results:\n",
    "        user_id = event[\"properties\"].get(\"$user_id\")\n",
    "\n",
    "        if not user_id:\n",
    "            continue\n",
    "\n",
    "        user_data = data_by_user_id.get(user_id)\n",
    "\n",
    "        if not user_data:\n",
    "            data_by_user_id[user_id] = event[\"properties\"][\"Used Filter\"] == \"Nível de dificuldade\"\n",
    "            \n",
    "            \n",
    "    data = []\n",
    "            \n",
    "    for user_id in data_by_user_id.keys():\n",
    "        data.append({\n",
    "            \"group\": \"treatment\" if user_id in beta_testers_ids else \"control\",\n",
    "            \"adopted\": data_by_user_id[user_id]\n",
    "        })\n",
    "        \n",
    "    return data\n",
    "\n",
    "adoption_df = pd.DataFrame(get_users_adoption_by_group())\n",
    "\n",
    "adopt_contingency = pd.crosstab(adoption_df['group'], adoption_df['adopted'])\n",
    "\n",
    "print(adopt_contingency)\n",
    "\n",
    "adopt_chi2, adopt_p_value, adopt_dof, adopt_expected = stats.chi2_contingency(adopt_contingency)\n",
    "\n",
    "print(f\"\\nchi-quadrado: {adopt_chi2}\")\n",
    "print(f\"p-valor: {adopt_p_value}\")\n",
    "print(f\"graus de liberdade: {adopt_dof}\")\n",
    "print(f\"frequências esperadas: {adopt_expected}\")\n",
    "\n",
    "alpha = 0.05\n",
    "\n",
    "if adopt_p_value < alpha:\n",
    "    print(f\"\\nhá uma diferença entre a adoção do filtro pelos grupos.\")\n",
    "else:\n",
    "    print(f\"\\nnão há uma diferença entre a adoção do filtro pelos grupos.\")"
   ]
  },
  {
   "cell_type": "markdown",
   "id": "e1526c0a",
   "metadata": {},
   "source": [
    "### Calcula o número de utilizações do filtro de nível de dificuldade por cada docente único"
   ]
  },
  {
   "cell_type": "code",
   "execution_count": 8,
   "id": "6f174db9",
   "metadata": {},
   "outputs": [
    {
     "name": "stdout",
     "output_type": "stream",
     "text": [
      "grupo control 281 docentes\n",
      "grupo treatment 50 docentes\n"
     ]
    }
   ],
   "source": [
    "experiment_users_ids = [] # guarda os ids dos usuários que participarão do experimento\n",
    "\n",
    "def get_filter_uses_by_group():\n",
    "    occs_by_user_id = {}\n",
    "\n",
    "    for event in filters_results:\n",
    "        if event[\"properties\"][\"Used Filter\"] != \"Nível de dificuldade\":\n",
    "            continue\n",
    "\n",
    "        user_id = event[\"properties\"].get(\"$user_id\")\n",
    "\n",
    "        if not user_id:\n",
    "            continue\n",
    "\n",
    "        if not occs_by_user_id.get(user_id):\n",
    "            occs_by_user_id[user_id] = 1\n",
    "        else:\n",
    "            occs_by_user_id[user_id] = occs_by_user_id[user_id] + 1\n",
    "\n",
    "    data = {\n",
    "        \"control\": [],\n",
    "        \"treatment\": [],\n",
    "    }\n",
    "\n",
    "    for user_id in occs_by_user_id.keys():\n",
    "        experiment_users_ids.append(user_id)\n",
    "        data[\"treatment\" if user_id in beta_testers_ids else \"control\"]\\\n",
    "            .append({ \"id\": user_id, \"uses\": occs_by_user_id[user_id]})\n",
    "\n",
    "    return data\n",
    "\n",
    "parsed_filters_data = get_filter_uses_by_group()\n",
    "\n",
    "for group in parsed_filters_data.keys():\n",
    "    print(\"grupo\", group, len(parsed_filters_data[group]), \"docentes\")\n",
    "#     print(\"Nº de usos:\", [user[\"uses\"] for user in parsed_filters_data[group]])"
   ]
  },
  {
   "cell_type": "markdown",
   "id": "3842b75e",
   "metadata": {},
   "source": [
    "### Remove outliers, plota distribuição dos grupos e testa normalidade"
   ]
  },
  {
   "cell_type": "code",
   "execution_count": 9,
   "id": "9934a3b4",
   "metadata": {},
   "outputs": [
    {
     "data": {
      "image/png": "[encoded data removed]",
      "text/plain": [
       "<Figure size 800x600 with 1 Axes>"
      ]
     },
     "metadata": {},
     "output_type": "display_data"
    }
   ],
   "source": [
    "def remove_outliers(df, metric):\n",
    "    Q1 = df[metric].quantile(0.25)\n",
    "    Q3 = df[metric].quantile(0.75)\n",
    "    IQR = Q3 - Q1\n",
    "    bot_threshold = Q1 - 1.5 * IQR\n",
    "    top_threshold = Q3 + 1.5 * IQR\n",
    "    return df[(df[metric] >= bot_threshold) & (df[metric] <= top_threshold)]\n",
    "\n",
    "uses_num_ct_df = \\\n",
    "    remove_outliers(\n",
    "        pd.DataFrame(parsed_filters_data[\"control\"]),\n",
    "        \"uses\"\n",
    "    )\n",
    "uses_num_trt_df = \\\n",
    "    remove_outliers(\n",
    "        pd.DataFrame(parsed_filters_data[\"treatment\"]),\n",
    "        \"uses\"\n",
    "    )\n",
    "\n",
    "uses_boxplot = pd.concat([uses_num_ct_df[\"uses\"], uses_num_trt_df[\"uses\"]], axis=1)\n",
    "uses_boxplot.columns = ['Controle', 'Tratamento']\n",
    "\n",
    "plt.figure(figsize=(8, 6))\n",
    "sns.boxplot(data=uses_boxplot)\n",
    "plt.title('')\n",
    "plt.ylabel('Nº de usos do filtro de nível de dificuldade')\n",
    "plt.show()"
   ]
  },
  {
   "cell_type": "code",
   "execution_count": 10,
   "id": "e1cc4114",
   "metadata": {},
   "outputs": [
    {
     "data": {
      "text/html": [
       "<div>\n",
       "<style scoped>\n",
       "    .dataframe tbody tr th:only-of-type {\n",
       "        vertical-align: middle;\n",
       "    }\n",
       "\n",
       "    .dataframe tbody tr th {\n",
       "        vertical-align: top;\n",
       "    }\n",
       "\n",
       "    .dataframe thead th {\n",
       "        text-align: right;\n",
       "    }\n",
       "</style>\n",
       "<table border=\"1\" class=\"dataframe\">\n",
       "  <thead>\n",
       "    <tr style=\"text-align: right;\">\n",
       "      <th></th>\n",
       "      <th>uses</th>\n",
       "    </tr>\n",
       "  </thead>\n",
       "  <tbody>\n",
       "    <tr>\n",
       "      <th>count</th>\n",
       "      <td>254.000000</td>\n",
       "    </tr>\n",
       "    <tr>\n",
       "      <th>mean</th>\n",
       "      <td>5.657480</td>\n",
       "    </tr>\n",
       "    <tr>\n",
       "      <th>std</th>\n",
       "      <td>4.244131</td>\n",
       "    </tr>\n",
       "    <tr>\n",
       "      <th>min</th>\n",
       "      <td>1.000000</td>\n",
       "    </tr>\n",
       "    <tr>\n",
       "      <th>25%</th>\n",
       "      <td>2.000000</td>\n",
       "    </tr>\n",
       "    <tr>\n",
       "      <th>50%</th>\n",
       "      <td>4.000000</td>\n",
       "    </tr>\n",
       "    <tr>\n",
       "      <th>75%</th>\n",
       "      <td>8.000000</td>\n",
       "    </tr>\n",
       "    <tr>\n",
       "      <th>max</th>\n",
       "      <td>19.000000</td>\n",
       "    </tr>\n",
       "  </tbody>\n",
       "</table>\n",
       "</div>"
      ],
      "text/plain": [
       "             uses\n",
       "count  254.000000\n",
       "mean     5.657480\n",
       "std      4.244131\n",
       "min      1.000000\n",
       "25%      2.000000\n",
       "50%      4.000000\n",
       "75%      8.000000\n",
       "max     19.000000"
      ]
     },
     "execution_count": 10,
     "metadata": {},
     "output_type": "execute_result"
    }
   ],
   "source": [
    "uses_num_ct_df.describe()"
   ]
  },
  {
   "cell_type": "code",
   "execution_count": 11,
   "id": "379657fc",
   "metadata": {},
   "outputs": [
    {
     "data": {
      "text/html": [
       "<div>\n",
       "<style scoped>\n",
       "    .dataframe tbody tr th:only-of-type {\n",
       "        vertical-align: middle;\n",
       "    }\n",
       "\n",
       "    .dataframe tbody tr th {\n",
       "        vertical-align: top;\n",
       "    }\n",
       "\n",
       "    .dataframe thead th {\n",
       "        text-align: right;\n",
       "    }\n",
       "</style>\n",
       "<table border=\"1\" class=\"dataframe\">\n",
       "  <thead>\n",
       "    <tr style=\"text-align: right;\">\n",
       "      <th></th>\n",
       "      <th>uses</th>\n",
       "    </tr>\n",
       "  </thead>\n",
       "  <tbody>\n",
       "    <tr>\n",
       "      <th>count</th>\n",
       "      <td>45.000000</td>\n",
       "    </tr>\n",
       "    <tr>\n",
       "      <th>mean</th>\n",
       "      <td>6.111111</td>\n",
       "    </tr>\n",
       "    <tr>\n",
       "      <th>std</th>\n",
       "      <td>4.858087</td>\n",
       "    </tr>\n",
       "    <tr>\n",
       "      <th>min</th>\n",
       "      <td>1.000000</td>\n",
       "    </tr>\n",
       "    <tr>\n",
       "      <th>25%</th>\n",
       "      <td>2.000000</td>\n",
       "    </tr>\n",
       "    <tr>\n",
       "      <th>50%</th>\n",
       "      <td>4.000000</td>\n",
       "    </tr>\n",
       "    <tr>\n",
       "      <th>75%</th>\n",
       "      <td>9.000000</td>\n",
       "    </tr>\n",
       "    <tr>\n",
       "      <th>max</th>\n",
       "      <td>20.000000</td>\n",
       "    </tr>\n",
       "  </tbody>\n",
       "</table>\n",
       "</div>"
      ],
      "text/plain": [
       "            uses\n",
       "count  45.000000\n",
       "mean    6.111111\n",
       "std     4.858087\n",
       "min     1.000000\n",
       "25%     2.000000\n",
       "50%     4.000000\n",
       "75%     9.000000\n",
       "max    20.000000"
      ]
     },
     "execution_count": 11,
     "metadata": {},
     "output_type": "execute_result"
    }
   ],
   "source": [
    "uses_num_trt_df.describe()"
   ]
  },
  {
   "cell_type": "code",
   "execution_count": 12,
   "id": "c8bacf8f",
   "metadata": {},
   "outputs": [
    {
     "name": "stdout",
     "output_type": "stream",
     "text": [
      "controle: distribuição não normal\n",
      "tratamento: distribuição não normal\n"
     ]
    },
    {
     "data": {
      "image/png": "[encoded data removed]",
      "text/plain": [
       "<Figure size 640x480 with 1 Axes>"
      ]
     },
     "metadata": {},
     "output_type": "display_data"
    }
   ],
   "source": [
    "# ----------- TESTES DE NORMALIDADE -------------\n",
    "\n",
    "uses_ct_stat, uses_ct_p_value = stats.normaltest(uses_num_ct_df[\"uses\"])\n",
    "uses_trt_stat, uses_trt_p_value = stats.normaltest(uses_num_trt_df[\"uses\"])\n",
    "\n",
    "if uses_ct_p_value > 0.05:\n",
    "    print(\"controle: distribuição normal\")\n",
    "else:\n",
    "    print(\"controle: distribuição não normal\")\n",
    "\n",
    "if uses_trt_p_value > 0.05:\n",
    "    print(\"tratamento: distribuição normal\")\n",
    "else:\n",
    "    print(\"tratamento: distribuição não normal\")\n",
    "    \n",
    "# ------------------------------------------------\n",
    "\n",
    "sns.histplot(uses_num_ct_df[\"uses\"], kde=True, color='blue', label='', bins=10, stat='density', linewidth=0)\n",
    "sns.histplot(uses_num_trt_df[\"uses\"], kde=True, color='brown', label='', bins=10, stat='density', linewidth=0)\n",
    "\n",
    "plt.title('Distribuição')\n",
    "plt.xlabel('')\n",
    "plt.ylabel('')\n",
    "plt.legend([''])\n",
    "\n",
    "plt.show()"
   ]
  },
  {
   "cell_type": "markdown",
   "id": "13c99591",
   "metadata": {},
   "source": [
    "### Verifica se há diferença no número de utilizações do filtro de nível de dificuldade entre os grupos\n",
    "#### Docentes beta utilizam o filtro mais ou menos vezes que o resto da base?"
   ]
  },
  {
   "cell_type": "code",
   "execution_count": null,
   "id": "534e4d5c",
   "metadata": {},
   "outputs": [
    {
     "name": "stdout",
     "output_type": "stream",
     "text": [
      "u-statistic: 5511.0000 up-value: 0.7014\n",
      "nenhuma diferença estatisticamente significativa\n"
     ]
    }
   ],
   "source": [
    "uses_u_stat, usesup_value = stats.mannwhitneyu(\n",
    "    uses_num_ct_df[\"uses\"], \n",
    "    uses_num_trt_df[\"uses\"], \n",
    "    alternative=\"two-sided\"\n",
    ")\n",
    "\n",
    "print(f\"u-statistic: {uses_u_stat:.4f} up-value: {usesup_value:.4f}\")\n",
    "\n",
    "alpha = 0.05\n",
    "\n",
    "if usesup_value < alpha:\n",
    "    print(\"diferença estatistica encontrada\")\n",
    "else:\n",
    "    print(\"nenhuma diferença estatistica encontrada\")"
   ]
  },
  {
   "cell_type": "markdown",
   "id": "cf069e4a",
   "metadata": {},
   "source": [
    "### Verifica se há diferença no número de atividades criadas por cada docente\n",
    "#### Docentes beta criam o mesmo número de atividades que o resto da base?"
   ]
  },
  {
   "cell_type": "code",
   "execution_count": 14,
   "id": "502febb7",
   "metadata": {},
   "outputs": [
    {
     "name": "stdout",
     "output_type": "stream",
     "text": [
      "número de eventos de criação de atividades recebidos do mixpanel 31352\n"
     ]
    }
   ],
   "source": [
    "hw_results = parse_api_data(\n",
    "    request_events(\n",
    "        from_date=\"2024-10-08\",\n",
    "        to_date=\"2024-10-21\",\n",
    "        events=[\"Homework Scheduled\"],\n",
    "    )\n",
    ") if api_secret else get_events_from_file(\"homework_events.masked.json\")\n",
    "\n",
    "\n",
    "print(\"número de eventos de criação de atividades recebidos do mixpanel\", len(hw_results))"
   ]
  },
  {
   "cell_type": "code",
   "execution_count": 15,
   "id": "a0cc10ae",
   "metadata": {},
   "outputs": [
    {
     "name": "stdout",
     "output_type": "stream",
     "text": [
      "grupo  control 225 docentes:\n",
      "Nº de atividades criadas: [20, 18, 9, 39, 9, 15, 19, 15, 2, 3, 6, 20, 7, 9, 12, 2, 12, 12, 2, 7, 6, 11, 10, 10, 13, 4, 2, 9, 15, 35, 5, 5, 15, 5, 4, 8, 15, 7, 10, 5, 8, 8, 15, 3, 7, 9, 24, 43, 5, 110, 38, 3, 4, 5, 9, 17, 1, 23, 1, 7, 13, 5, 1, 8, 2, 15, 6, 2, 3, 9, 41, 33, 9, 4, 36, 3, 5, 2, 2, 13, 15, 8, 12, 18, 2, 1, 7, 17, 3, 8, 3, 12, 6, 5, 2, 2, 11, 9, 2, 7, 11, 6, 7, 7, 49, 16, 6, 11, 19, 3, 11, 17, 8, 7, 2, 3, 3, 16, 4, 9, 13, 2, 7, 7, 4, 5, 12, 12, 5, 13, 14, 8, 24, 13, 1, 2, 17, 15, 17, 10, 7, 3, 7, 3, 4, 3, 1, 1, 2, 16, 36, 20, 6, 7, 36, 5, 4, 9, 2, 6, 5, 6, 2, 2, 10, 3, 7, 8, 5, 9, 14, 23, 5, 7, 23, 12, 7, 4, 2, 2, 8, 1, 3, 20, 7, 1, 7, 2, 1, 4, 7, 10, 29, 24, 24, 4, 2, 2, 2, 3, 9, 2, 3, 12, 3, 16, 10, 1, 3, 12, 6, 6, 2, 3, 8, 10, 3, 2, 2, 1, 2, 1, 11, 1, 4]\n",
      "grupo  treatment 44 docentes:\n",
      "Nº de atividades criadas: [3, 1, 4, 19, 2, 2, 16, 3, 12, 14, 3, 8, 1, 28, 3, 23, 20, 6, 7, 27, 6, 29, 15, 7, 19, 12, 2, 5, 1, 3, 4, 4, 7, 2, 2, 2, 8, 6, 6, 6, 8, 5, 7, 3]\n"
     ]
    }
   ],
   "source": [
    "def get_activity_creations_for_each_teacher():\n",
    "    occs_by_user_id = {}\n",
    "\n",
    "    for event in hw_results:\n",
    "        user_id = event[\"properties\"].get(\"$user_id\")\n",
    "\n",
    "        if not user_id:\n",
    "            continue\n",
    "            \n",
    "        if user_id not in experiment_users_ids:\n",
    "            continue\n",
    "\n",
    "        if occs_by_user_id.get(user_id):\n",
    "            occs_by_user_id[user_id] = occs_by_user_id[user_id] + 1\n",
    "        else:\n",
    "            occs_by_user_id[user_id] = 1\n",
    "\n",
    "    data = {\n",
    "        \"control\": [],\n",
    "        \"treatment\": [],\n",
    "    }\n",
    "\n",
    "    for user_id in occs_by_user_id.keys():\n",
    "        data[\"treatment\" if user_id in beta_testers_ids else \"control\"]\\\n",
    "            .append({ \"id\": user_id, \"activities_created\": occs_by_user_id[user_id]})\n",
    "\n",
    "    return data\n",
    "\n",
    "acts_by_group = get_activity_creations_for_each_teacher()\n",
    "\n",
    "for group in acts_by_group.keys():\n",
    "    print(\"grupo \", group, len(acts_by_group[group]), \"docentes:\", )\n",
    "    print(\"Nº de atividades criadas:\", [user[\"activities_created\"] for user in acts_by_group[group]])"
   ]
  },
  {
   "cell_type": "code",
   "execution_count": 16,
   "id": "4c28f04f",
   "metadata": {},
   "outputs": [
    {
     "name": "stdout",
     "output_type": "stream",
     "text": [
      "controle: distribuição não normal\n",
      "tratamento: distribuição não normal\n"
     ]
    },
    {
     "data": {
      "image/png": "[encoded data removed]",
      "text/plain": [
       "<Figure size 640x480 with 1 Axes>"
      ]
     },
     "metadata": {},
     "output_type": "display_data"
    }
   ],
   "source": [
    "acts_num_ct_df = remove_outliers(\n",
    "    pd.DataFrame(acts_by_group[\"control\"]),\n",
    "    \"activities_created\"\n",
    ")\n",
    "acts_num_trt_df = remove_outliers(\n",
    "    pd.DataFrame(acts_by_group[\"treatment\"]),\n",
    "    \"activities_created\"\n",
    ")\n",
    "\n",
    "# ----------- TESTES DE NORMALIDADE -------------\n",
    "\n",
    "acts_ct_stat, acts_ct_p_value = stats.normaltest(acts_num_ct_df[\"activities_created\"])\n",
    "acts_trt_stat, acts_trt_p_value = stats.normaltest(acts_num_trt_df[\"activities_created\"])\n",
    "\n",
    "if acts_ct_p_value > 0.05:\n",
    "    print(\"controle: distribuição normal\")\n",
    "else:\n",
    "    print(\"controle: distribuição não normal\")\n",
    "\n",
    "if acts_trt_p_value > 0.05:\n",
    "    print(\"tratamento: distribuição normal\")\n",
    "else:\n",
    "    print(\"tratamento: distribuição não normal\")\n",
    "    \n",
    "# ------------------------------------------------\n",
    "\n",
    "\n",
    "sns.histplot(acts_num_ct_df[\"activities_created\"], kde=True, color='blue', label='', bins=10, stat='density', linewidth=0)\n",
    "sns.histplot(acts_num_trt_df[\"activities_created\"], kde=True, color='brown', label='', bins=10, stat='density', linewidth=0)\n",
    "\n",
    "plt.title('Distribuição')\n",
    "plt.xlabel('')\n",
    "plt.ylabel('')\n",
    "plt.legend([''])\n",
    "\n",
    "plt.show()"
   ]
  },
  {
   "cell_type": "code",
   "execution_count": null,
   "id": "c64a1b81",
   "metadata": {},
   "outputs": [
    {
     "name": "stdout",
     "output_type": "stream",
     "text": [
      "u-statistic: 4797.0000 up-value: 0.3166\n",
      "nenhuma diferença estatisticamente significativa na criação de atividades pelos docentes de cada grupo\n"
     ]
    }
   ],
   "source": [
    "acts_u_stat, acts_up_value = stats.mannwhitneyu(acts_num_ct_df[\"activities_created\"], acts_num_trt_df[\"activities_created\"], alternative=\"two-sided\")\n",
    "\n",
    "print(f\"u-statistic: {acts_u_stat:.4f} up-value: {acts_up_value:.4f}\")\n",
    "\n",
    "alpha = 0.05\n",
    "\n",
    "if acts_up_value < alpha:\n",
    "    print(\"diferença na criação de atividades pelos docentes de cada grupo\")\n",
    "else:\n",
    "    print(\"nenhuma diferença na criação de atividades pelos docentes de cada grupo\")"
   ]
  }
 ],
 "metadata": {
  "kernelspec": {
   "display_name": ".venv",
   "language": "python",
   "name": "python3"
  },
  "language_info": {
   "codemirror_mode": {
    "name": "ipython",
    "version": 3
   },
   "file_extension": ".py",
   "mimetype": "text/x-python",
   "name": "python",
   "nbconvert_exporter": "python",
   "pygments_lexer": "ipython3",
   "version": "3.8.12"
  }
 },
 "nbformat": 4,
 "nbformat_minor": 5
}
